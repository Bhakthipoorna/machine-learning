{
  "nbformat": 4,
  "nbformat_minor": 0,
  "metadata": {
    "colab": {
      "name": "ANN.ipynb",
      "provenance": [],
      "collapsed_sections": [],
      "authorship_tag": "ABX9TyOYIDV0hX+WxbBjTZOpGAUj",
      "include_colab_link": true
    },
    "kernelspec": {
      "name": "python3",
      "display_name": "Python 3"
    }
  },
  "cells": [
    {
      "cell_type": "markdown",
      "metadata": {
        "id": "view-in-github",
        "colab_type": "text"
      },
      "source": [
        "<a href=\"https://colab.research.google.com/github/Bhakthipoorna/machine-learning/blob/main/ANN.ipynb\" target=\"_parent\"><img src=\"https://colab.research.google.com/assets/colab-badge.svg\" alt=\"Open In Colab\"/></a>"
      ]
    },
    {
      "cell_type": "code",
      "metadata": {
        "id": "P1_ntefe23d4"
      },
      "source": [
        "#importing Required packsge\r\n",
        "import numpy as np\r\n",
        "import pandas as pd\r\n",
        "import matplotlib.pyplot as  plt\r\n",
        "import seaborn as sns"
      ],
      "execution_count": 4,
      "outputs": []
    },
    {
      "cell_type": "code",
      "metadata": {
        "colab": {
          "base_uri": "https://localhost:8080/",
          "height": 428
        },
        "id": "cOXg0ctw3T7L",
        "outputId": "64ffc9b6-acd7-4397-ee56-65297dffc12c"
      },
      "source": [
        "#Reading the dataset\r\n",
        "data=pd.read_csv(\"diabetes.csv\")\r\n",
        "data"
      ],
      "execution_count": 5,
      "outputs": [
        {
          "output_type": "execute_result",
          "data": {
            "text/html": [
              "<div>\n",
              "<style scoped>\n",
              "    .dataframe tbody tr th:only-of-type {\n",
              "        vertical-align: middle;\n",
              "    }\n",
              "\n",
              "    .dataframe tbody tr th {\n",
              "        vertical-align: top;\n",
              "    }\n",
              "\n",
              "    .dataframe thead th {\n",
              "        text-align: right;\n",
              "    }\n",
              "</style>\n",
              "<table border=\"1\" class=\"dataframe\">\n",
              "  <thead>\n",
              "    <tr style=\"text-align: right;\">\n",
              "      <th></th>\n",
              "      <th>Pregnancies</th>\n",
              "      <th>Glucose</th>\n",
              "      <th>BloodPressure</th>\n",
              "      <th>SkinThickness</th>\n",
              "      <th>Insulin</th>\n",
              "      <th>BMI</th>\n",
              "      <th>DiabetesPedigreeFunction</th>\n",
              "      <th>Age</th>\n",
              "      <th>Outcome</th>\n",
              "    </tr>\n",
              "  </thead>\n",
              "  <tbody>\n",
              "    <tr>\n",
              "      <th>0</th>\n",
              "      <td>6</td>\n",
              "      <td>148</td>\n",
              "      <td>72</td>\n",
              "      <td>35</td>\n",
              "      <td>0</td>\n",
              "      <td>33.6</td>\n",
              "      <td>0.627</td>\n",
              "      <td>50</td>\n",
              "      <td>1</td>\n",
              "    </tr>\n",
              "    <tr>\n",
              "      <th>1</th>\n",
              "      <td>1</td>\n",
              "      <td>85</td>\n",
              "      <td>66</td>\n",
              "      <td>29</td>\n",
              "      <td>0</td>\n",
              "      <td>26.6</td>\n",
              "      <td>0.351</td>\n",
              "      <td>31</td>\n",
              "      <td>0</td>\n",
              "    </tr>\n",
              "    <tr>\n",
              "      <th>2</th>\n",
              "      <td>8</td>\n",
              "      <td>183</td>\n",
              "      <td>64</td>\n",
              "      <td>0</td>\n",
              "      <td>0</td>\n",
              "      <td>23.3</td>\n",
              "      <td>0.672</td>\n",
              "      <td>32</td>\n",
              "      <td>1</td>\n",
              "    </tr>\n",
              "    <tr>\n",
              "      <th>3</th>\n",
              "      <td>1</td>\n",
              "      <td>89</td>\n",
              "      <td>66</td>\n",
              "      <td>23</td>\n",
              "      <td>94</td>\n",
              "      <td>28.1</td>\n",
              "      <td>0.167</td>\n",
              "      <td>21</td>\n",
              "      <td>0</td>\n",
              "    </tr>\n",
              "    <tr>\n",
              "      <th>4</th>\n",
              "      <td>0</td>\n",
              "      <td>137</td>\n",
              "      <td>40</td>\n",
              "      <td>35</td>\n",
              "      <td>168</td>\n",
              "      <td>43.1</td>\n",
              "      <td>2.288</td>\n",
              "      <td>33</td>\n",
              "      <td>1</td>\n",
              "    </tr>\n",
              "    <tr>\n",
              "      <th>...</th>\n",
              "      <td>...</td>\n",
              "      <td>...</td>\n",
              "      <td>...</td>\n",
              "      <td>...</td>\n",
              "      <td>...</td>\n",
              "      <td>...</td>\n",
              "      <td>...</td>\n",
              "      <td>...</td>\n",
              "      <td>...</td>\n",
              "    </tr>\n",
              "    <tr>\n",
              "      <th>763</th>\n",
              "      <td>10</td>\n",
              "      <td>101</td>\n",
              "      <td>76</td>\n",
              "      <td>48</td>\n",
              "      <td>180</td>\n",
              "      <td>32.9</td>\n",
              "      <td>0.171</td>\n",
              "      <td>63</td>\n",
              "      <td>0</td>\n",
              "    </tr>\n",
              "    <tr>\n",
              "      <th>764</th>\n",
              "      <td>2</td>\n",
              "      <td>122</td>\n",
              "      <td>70</td>\n",
              "      <td>27</td>\n",
              "      <td>0</td>\n",
              "      <td>36.8</td>\n",
              "      <td>0.340</td>\n",
              "      <td>27</td>\n",
              "      <td>0</td>\n",
              "    </tr>\n",
              "    <tr>\n",
              "      <th>765</th>\n",
              "      <td>5</td>\n",
              "      <td>121</td>\n",
              "      <td>72</td>\n",
              "      <td>23</td>\n",
              "      <td>112</td>\n",
              "      <td>26.2</td>\n",
              "      <td>0.245</td>\n",
              "      <td>30</td>\n",
              "      <td>0</td>\n",
              "    </tr>\n",
              "    <tr>\n",
              "      <th>766</th>\n",
              "      <td>1</td>\n",
              "      <td>126</td>\n",
              "      <td>60</td>\n",
              "      <td>0</td>\n",
              "      <td>0</td>\n",
              "      <td>30.1</td>\n",
              "      <td>0.349</td>\n",
              "      <td>47</td>\n",
              "      <td>1</td>\n",
              "    </tr>\n",
              "    <tr>\n",
              "      <th>767</th>\n",
              "      <td>1</td>\n",
              "      <td>93</td>\n",
              "      <td>70</td>\n",
              "      <td>31</td>\n",
              "      <td>0</td>\n",
              "      <td>30.4</td>\n",
              "      <td>0.315</td>\n",
              "      <td>23</td>\n",
              "      <td>0</td>\n",
              "    </tr>\n",
              "  </tbody>\n",
              "</table>\n",
              "<p>768 rows × 9 columns</p>\n",
              "</div>"
            ],
            "text/plain": [
              "     Pregnancies  Glucose  ...  Age  Outcome\n",
              "0              6      148  ...   50        1\n",
              "1              1       85  ...   31        0\n",
              "2              8      183  ...   32        1\n",
              "3              1       89  ...   21        0\n",
              "4              0      137  ...   33        1\n",
              "..           ...      ...  ...  ...      ...\n",
              "763           10      101  ...   63        0\n",
              "764            2      122  ...   27        0\n",
              "765            5      121  ...   30        0\n",
              "766            1      126  ...   47        1\n",
              "767            1       93  ...   23        0\n",
              "\n",
              "[768 rows x 9 columns]"
            ]
          },
          "metadata": {
            "tags": []
          },
          "execution_count": 5
        }
      ]
    },
    {
      "cell_type": "code",
      "metadata": {
        "colab": {
          "base_uri": "https://localhost:8080/",
          "height": 407
        },
        "id": "zT-mJ9lJ3WJ2",
        "outputId": "27ffd56d-6d3a-47d1-b660-8a3ed571bba6"
      },
      "source": [
        "#Checking for null values\r\n",
        "sns.heatmap(data.isnull())"
      ],
      "execution_count": 6,
      "outputs": [
        {
          "output_type": "execute_result",
          "data": {
            "text/plain": [
              "<matplotlib.axes._subplots.AxesSubplot at 0x7f4141941b70>"
            ]
          },
          "metadata": {
            "tags": []
          },
          "execution_count": 6
        },
        {
          "output_type": "display_data",
          "data": {
            "image/png": "[encoded data removed]",
            "text/plain": [
              "<Figure size 432x288 with 2 Axes>"
            ]
          },
          "metadata": {
            "tags": [],
            "needs_background": "light"
          }
        }
      ]
    },
    {
      "cell_type": "code",
      "metadata": {
        "id": "oXZbSORt4u5S"
      },
      "source": [
        ""
      ],
      "execution_count": 6,
      "outputs": []
    },
    {
      "cell_type": "markdown",
      "metadata": {
        "id": "OSrv5FCA6ytv"
      },
      "source": [
        ""
      ]
    },
    {
      "cell_type": "code",
      "metadata": {
        "id": "W6TK4VoW4BZQ"
      },
      "source": [
        "X=data.iloc[:,:-1]\r\n",
        "Y=data.iloc[:,-1]"
      ],
      "execution_count": 44,
      "outputs": []
    },
    {
      "cell_type": "code",
      "metadata": {
        "id": "THvNxRxdBkL3"
      },
      "source": [
        "from sklearn.model_selection import train_test_split\r\n",
        "x_train,x_test,y_train,y_test=train_test_split(X,Y,test_size=0.3,random_state=4)"
      ],
      "execution_count": 62,
      "outputs": []
    },
    {
      "cell_type": "code",
      "metadata": {
        "id": "qIi-WYYg4lFs"
      },
      "source": [
        "from keras import Sequential  #importing the model"
      ],
      "execution_count": 63,
      "outputs": []
    },
    {
      "cell_type": "code",
      "metadata": {
        "id": "D7XOXmnp5h7D"
      },
      "source": [
        "from keras.layers import Dense"
      ],
      "execution_count": 64,
      "outputs": []
    },
    {
      "cell_type": "code",
      "metadata": {
        "id": "mnPW_EVY5t8O"
      },
      "source": [
        "import keras #this will import all ther keras APIs, no need to import packages saperately"
      ],
      "execution_count": 65,
      "outputs": []
    },
    {
      "cell_type": "code",
      "metadata": {
        "id": "bmRNMuIV51sl"
      },
      "source": [
        "model=Sequential() #initialising the model"
      ],
      "execution_count": 66,
      "outputs": []
    },
    {
      "cell_type": "code",
      "metadata": {
        "id": "kfdK46kN6TaQ"
      },
      "source": [
        "#Adding the layers\r\n",
        "model.add(Dense(units=8,input_dim=8)) #First layer (Input layer)\r\n",
        "model.add(Dense(units=12,activation='tanh'))  #Second layer(Hidden layer)\r\n",
        "model.add(Dense(units=1,activation=\"sigmoid\")) #Third layer(Output layer)"
      ],
      "execution_count": 67,
      "outputs": []
    },
    {
      "cell_type": "code",
      "metadata": {
        "id": "KF_yWb6S7D8Z"
      },
      "source": [
        "model.compile(loss='binary_crossentropy',optimizer='adam',metrics=['accuracy']) #Compiling the model"
      ],
      "execution_count": 68,
      "outputs": []
    },
    {
      "cell_type": "code",
      "metadata": {
        "id": "au8Rt6-o9bod"
      },
      "source": [
        "#model.fit(X,Y,epochs=150,batch_size=10,verbose=1)  #Training the model ()"
      ],
      "execution_count": 69,
      "outputs": []
    },
    {
      "cell_type": "code",
      "metadata": {
        "id": "inw9uzCt-K_O",
        "colab": {
          "base_uri": "https://localhost:8080/"
        },
        "outputId": "38f43793-0fa3-4573-88fe-228e1936093a"
      },
      "source": [
        "#Train model\r\n",
        "history=model.fit(x_train,y_train,validation_data=(x_test,y_test),epochs=150,batch_size=10,verbose=1)#verbos by default 1"
      ],
      "execution_count": 70,
      "outputs": [
        {
          "output_type": "stream",
          "text": [
            "Epoch 1/150\n",
            "54/54 [==============================] - 1s 5ms/step - loss: 0.7214 - accuracy: 0.5516 - val_loss: 0.7458 - val_accuracy: 0.5281\n",
            "Epoch 2/150\n",
            "54/54 [==============================] - 0s 2ms/step - loss: 0.6641 - accuracy: 0.6256 - val_loss: 0.7107 - val_accuracy: 0.5628\n",
            "Epoch 3/150\n",
            "54/54 [==============================] - 0s 2ms/step - loss: 0.6346 - accuracy: 0.6353 - val_loss: 0.7044 - val_accuracy: 0.5671\n",
            "Epoch 4/150\n",
            "54/54 [==============================] - 0s 2ms/step - loss: 0.6127 - accuracy: 0.6581 - val_loss: 0.6998 - val_accuracy: 0.5671\n",
            "Epoch 5/150\n",
            "54/54 [==============================] - 0s 2ms/step - loss: 0.6362 - accuracy: 0.6299 - val_loss: 0.6900 - val_accuracy: 0.5541\n",
            "Epoch 6/150\n",
            "54/54 [==============================] - 0s 2ms/step - loss: 0.6189 - accuracy: 0.6490 - val_loss: 0.6877 - val_accuracy: 0.5541\n",
            "Epoch 7/150\n",
            "54/54 [==============================] - 0s 2ms/step - loss: 0.5966 - accuracy: 0.6617 - val_loss: 0.6819 - val_accuracy: 0.5844\n",
            "Epoch 8/150\n",
            "54/54 [==============================] - 0s 2ms/step - loss: 0.6371 - accuracy: 0.6261 - val_loss: 0.6861 - val_accuracy: 0.5628\n",
            "Epoch 9/150\n",
            "54/54 [==============================] - 0s 5ms/step - loss: 0.6318 - accuracy: 0.6419 - val_loss: 0.6871 - val_accuracy: 0.5498\n",
            "Epoch 10/150\n",
            "54/54 [==============================] - 0s 2ms/step - loss: 0.6165 - accuracy: 0.6328 - val_loss: 0.6765 - val_accuracy: 0.5801\n",
            "Epoch 11/150\n",
            "54/54 [==============================] - 0s 2ms/step - loss: 0.6062 - accuracy: 0.6298 - val_loss: 0.6600 - val_accuracy: 0.6147\n",
            "Epoch 12/150\n",
            "54/54 [==============================] - 0s 2ms/step - loss: 0.6213 - accuracy: 0.6260 - val_loss: 0.6550 - val_accuracy: 0.6190\n",
            "Epoch 13/150\n",
            "54/54 [==============================] - 0s 2ms/step - loss: 0.6110 - accuracy: 0.6294 - val_loss: 0.6569 - val_accuracy: 0.6104\n",
            "Epoch 14/150\n",
            "54/54 [==============================] - 0s 2ms/step - loss: 0.6160 - accuracy: 0.6334 - val_loss: 0.6509 - val_accuracy: 0.6147\n",
            "Epoch 15/150\n",
            "54/54 [==============================] - 0s 2ms/step - loss: 0.6131 - accuracy: 0.6583 - val_loss: 0.6660 - val_accuracy: 0.6450\n",
            "Epoch 16/150\n",
            "54/54 [==============================] - 0s 2ms/step - loss: 0.6438 - accuracy: 0.6516 - val_loss: 0.6808 - val_accuracy: 0.6277\n",
            "Epoch 17/150\n",
            "54/54 [==============================] - 0s 2ms/step - loss: 0.6158 - accuracy: 0.6722 - val_loss: 0.6737 - val_accuracy: 0.6494\n",
            "Epoch 18/150\n",
            "54/54 [==============================] - 0s 2ms/step - loss: 0.6005 - accuracy: 0.6728 - val_loss: 0.6696 - val_accuracy: 0.6277\n",
            "Epoch 19/150\n",
            "54/54 [==============================] - 0s 2ms/step - loss: 0.5997 - accuracy: 0.6813 - val_loss: 0.6566 - val_accuracy: 0.6277\n",
            "Epoch 20/150\n",
            "54/54 [==============================] - 0s 2ms/step - loss: 0.6208 - accuracy: 0.6201 - val_loss: 0.6632 - val_accuracy: 0.6450\n",
            "Epoch 21/150\n",
            "54/54 [==============================] - 0s 2ms/step - loss: 0.6129 - accuracy: 0.6462 - val_loss: 0.6664 - val_accuracy: 0.6407\n",
            "Epoch 22/150\n",
            "54/54 [==============================] - 0s 2ms/step - loss: 0.6033 - accuracy: 0.6694 - val_loss: 0.6369 - val_accuracy: 0.6580\n",
            "Epoch 23/150\n",
            "54/54 [==============================] - 0s 2ms/step - loss: 0.5747 - accuracy: 0.7061 - val_loss: 0.6415 - val_accuracy: 0.6494\n",
            "Epoch 24/150\n",
            "54/54 [==============================] - 0s 2ms/step - loss: 0.5941 - accuracy: 0.6907 - val_loss: 0.6763 - val_accuracy: 0.6450\n",
            "Epoch 25/150\n",
            "54/54 [==============================] - 0s 2ms/step - loss: 0.6024 - accuracy: 0.6710 - val_loss: 0.6709 - val_accuracy: 0.6450\n",
            "Epoch 26/150\n",
            "54/54 [==============================] - 0s 2ms/step - loss: 0.6293 - accuracy: 0.6539 - val_loss: 0.6520 - val_accuracy: 0.6320\n",
            "Epoch 27/150\n",
            "54/54 [==============================] - 0s 2ms/step - loss: 0.6006 - accuracy: 0.6733 - val_loss: 0.6413 - val_accuracy: 0.6494\n",
            "Epoch 28/150\n",
            "54/54 [==============================] - 0s 2ms/step - loss: 0.6047 - accuracy: 0.6565 - val_loss: 0.6489 - val_accuracy: 0.6580\n",
            "Epoch 29/150\n",
            "54/54 [==============================] - 0s 2ms/step - loss: 0.5875 - accuracy: 0.6726 - val_loss: 0.6367 - val_accuracy: 0.6494\n",
            "Epoch 30/150\n",
            "54/54 [==============================] - 0s 2ms/step - loss: 0.6007 - accuracy: 0.6732 - val_loss: 0.6479 - val_accuracy: 0.6580\n",
            "Epoch 31/150\n",
            "54/54 [==============================] - 0s 2ms/step - loss: 0.6013 - accuracy: 0.6628 - val_loss: 0.6502 - val_accuracy: 0.6623\n",
            "Epoch 32/150\n",
            "54/54 [==============================] - 0s 2ms/step - loss: 0.6226 - accuracy: 0.6606 - val_loss: 0.6482 - val_accuracy: 0.6537\n",
            "Epoch 33/150\n",
            "54/54 [==============================] - 0s 3ms/step - loss: 0.5947 - accuracy: 0.6846 - val_loss: 0.6450 - val_accuracy: 0.6494\n",
            "Epoch 34/150\n",
            "54/54 [==============================] - 0s 2ms/step - loss: 0.5667 - accuracy: 0.7174 - val_loss: 0.6301 - val_accuracy: 0.6623\n",
            "Epoch 35/150\n",
            "54/54 [==============================] - 0s 2ms/step - loss: 0.5993 - accuracy: 0.6622 - val_loss: 0.6605 - val_accuracy: 0.6494\n",
            "Epoch 36/150\n",
            "54/54 [==============================] - 0s 2ms/step - loss: 0.6151 - accuracy: 0.6522 - val_loss: 0.6285 - val_accuracy: 0.6494\n",
            "Epoch 37/150\n",
            "54/54 [==============================] - 0s 2ms/step - loss: 0.5948 - accuracy: 0.6732 - val_loss: 0.6531 - val_accuracy: 0.6494\n",
            "Epoch 38/150\n",
            "54/54 [==============================] - 0s 2ms/step - loss: 0.5667 - accuracy: 0.7191 - val_loss: 0.6305 - val_accuracy: 0.6580\n",
            "Epoch 39/150\n",
            "54/54 [==============================] - 0s 2ms/step - loss: 0.5899 - accuracy: 0.6887 - val_loss: 0.6245 - val_accuracy: 0.6580\n",
            "Epoch 40/150\n",
            "54/54 [==============================] - 0s 2ms/step - loss: 0.6010 - accuracy: 0.6583 - val_loss: 0.6200 - val_accuracy: 0.6623\n",
            "Epoch 41/150\n",
            "54/54 [==============================] - 0s 2ms/step - loss: 0.5942 - accuracy: 0.6720 - val_loss: 0.6422 - val_accuracy: 0.6580\n",
            "Epoch 42/150\n",
            "54/54 [==============================] - 0s 2ms/step - loss: 0.6133 - accuracy: 0.6694 - val_loss: 0.6404 - val_accuracy: 0.6580\n",
            "Epoch 43/150\n",
            "54/54 [==============================] - 0s 2ms/step - loss: 0.5709 - accuracy: 0.7025 - val_loss: 0.6265 - val_accuracy: 0.6667\n",
            "Epoch 44/150\n",
            "54/54 [==============================] - 0s 2ms/step - loss: 0.5669 - accuracy: 0.7112 - val_loss: 0.6382 - val_accuracy: 0.6537\n",
            "Epoch 45/150\n",
            "54/54 [==============================] - 0s 3ms/step - loss: 0.5870 - accuracy: 0.6729 - val_loss: 0.6182 - val_accuracy: 0.6623\n",
            "Epoch 46/150\n",
            "54/54 [==============================] - 0s 2ms/step - loss: 0.5945 - accuracy: 0.6563 - val_loss: 0.6445 - val_accuracy: 0.6494\n",
            "Epoch 47/150\n",
            "54/54 [==============================] - 0s 2ms/step - loss: 0.5928 - accuracy: 0.6748 - val_loss: 0.6442 - val_accuracy: 0.6667\n",
            "Epoch 48/150\n",
            "54/54 [==============================] - 0s 2ms/step - loss: 0.5699 - accuracy: 0.6853 - val_loss: 0.6386 - val_accuracy: 0.6537\n",
            "Epoch 49/150\n",
            "54/54 [==============================] - 0s 2ms/step - loss: 0.5829 - accuracy: 0.6870 - val_loss: 0.6373 - val_accuracy: 0.6537\n",
            "Epoch 50/150\n",
            "54/54 [==============================] - 0s 2ms/step - loss: 0.6211 - accuracy: 0.6236 - val_loss: 0.6433 - val_accuracy: 0.6623\n",
            "Epoch 51/150\n",
            "54/54 [==============================] - 0s 2ms/step - loss: 0.5965 - accuracy: 0.6576 - val_loss: 0.6233 - val_accuracy: 0.6840\n",
            "Epoch 52/150\n",
            "54/54 [==============================] - 0s 2ms/step - loss: 0.5870 - accuracy: 0.6846 - val_loss: 0.6441 - val_accuracy: 0.6450\n",
            "Epoch 53/150\n",
            "54/54 [==============================] - 0s 2ms/step - loss: 0.6027 - accuracy: 0.6665 - val_loss: 0.6304 - val_accuracy: 0.6580\n",
            "Epoch 54/150\n",
            "54/54 [==============================] - 0s 2ms/step - loss: 0.6064 - accuracy: 0.6729 - val_loss: 0.6183 - val_accuracy: 0.6623\n",
            "Epoch 55/150\n",
            "54/54 [==============================] - 0s 2ms/step - loss: 0.5641 - accuracy: 0.7262 - val_loss: 0.6309 - val_accuracy: 0.6580\n",
            "Epoch 56/150\n",
            "54/54 [==============================] - 0s 2ms/step - loss: 0.5639 - accuracy: 0.7000 - val_loss: 0.6279 - val_accuracy: 0.6623\n",
            "Epoch 57/150\n",
            "54/54 [==============================] - 0s 2ms/step - loss: 0.5566 - accuracy: 0.7067 - val_loss: 0.6295 - val_accuracy: 0.6537\n",
            "Epoch 58/150\n",
            "54/54 [==============================] - 0s 2ms/step - loss: 0.5958 - accuracy: 0.6761 - val_loss: 0.6332 - val_accuracy: 0.6710\n",
            "Epoch 59/150\n",
            "54/54 [==============================] - 0s 2ms/step - loss: 0.5816 - accuracy: 0.6775 - val_loss: 0.6065 - val_accuracy: 0.6797\n",
            "Epoch 60/150\n",
            "54/54 [==============================] - 0s 2ms/step - loss: 0.5853 - accuracy: 0.6991 - val_loss: 0.6032 - val_accuracy: 0.6710\n",
            "Epoch 61/150\n",
            "54/54 [==============================] - 0s 5ms/step - loss: 0.5835 - accuracy: 0.6782 - val_loss: 0.6173 - val_accuracy: 0.6407\n",
            "Epoch 62/150\n",
            "54/54 [==============================] - 0s 2ms/step - loss: 0.5870 - accuracy: 0.6936 - val_loss: 0.6065 - val_accuracy: 0.6840\n",
            "Epoch 63/150\n",
            "54/54 [==============================] - 0s 2ms/step - loss: 0.5977 - accuracy: 0.6613 - val_loss: 0.6042 - val_accuracy: 0.6797\n",
            "Epoch 64/150\n",
            "54/54 [==============================] - 0s 3ms/step - loss: 0.5773 - accuracy: 0.6796 - val_loss: 0.5966 - val_accuracy: 0.6883\n",
            "Epoch 65/150\n",
            "54/54 [==============================] - 0s 2ms/step - loss: 0.5964 - accuracy: 0.6662 - val_loss: 0.6145 - val_accuracy: 0.6667\n",
            "Epoch 66/150\n",
            "54/54 [==============================] - 0s 2ms/step - loss: 0.5968 - accuracy: 0.6948 - val_loss: 0.6204 - val_accuracy: 0.6753\n",
            "Epoch 67/150\n",
            "54/54 [==============================] - 0s 2ms/step - loss: 0.6076 - accuracy: 0.6620 - val_loss: 0.6130 - val_accuracy: 0.6753\n",
            "Epoch 68/150\n",
            "54/54 [==============================] - 0s 2ms/step - loss: 0.5670 - accuracy: 0.6986 - val_loss: 0.6269 - val_accuracy: 0.6450\n",
            "Epoch 69/150\n",
            "54/54 [==============================] - 0s 2ms/step - loss: 0.6122 - accuracy: 0.6922 - val_loss: 0.6047 - val_accuracy: 0.6667\n",
            "Epoch 70/150\n",
            "54/54 [==============================] - 0s 2ms/step - loss: 0.5769 - accuracy: 0.6853 - val_loss: 0.6117 - val_accuracy: 0.6753\n",
            "Epoch 71/150\n",
            "54/54 [==============================] - 0s 2ms/step - loss: 0.6054 - accuracy: 0.6640 - val_loss: 0.6402 - val_accuracy: 0.6623\n",
            "Epoch 72/150\n",
            "54/54 [==============================] - 0s 2ms/step - loss: 0.6048 - accuracy: 0.6861 - val_loss: 0.6282 - val_accuracy: 0.6580\n",
            "Epoch 73/150\n",
            "54/54 [==============================] - 0s 2ms/step - loss: 0.5942 - accuracy: 0.6671 - val_loss: 0.6204 - val_accuracy: 0.6710\n",
            "Epoch 74/150\n",
            "54/54 [==============================] - 0s 2ms/step - loss: 0.5748 - accuracy: 0.7038 - val_loss: 0.6115 - val_accuracy: 0.6710\n",
            "Epoch 75/150\n",
            "54/54 [==============================] - 0s 2ms/step - loss: 0.5742 - accuracy: 0.6961 - val_loss: 0.5975 - val_accuracy: 0.6753\n",
            "Epoch 76/150\n",
            "54/54 [==============================] - 0s 2ms/step - loss: 0.5426 - accuracy: 0.7503 - val_loss: 0.6157 - val_accuracy: 0.6580\n",
            "Epoch 77/150\n",
            "54/54 [==============================] - 0s 2ms/step - loss: 0.5833 - accuracy: 0.7028 - val_loss: 0.6219 - val_accuracy: 0.6537\n",
            "Epoch 78/150\n",
            "54/54 [==============================] - 0s 2ms/step - loss: 0.5850 - accuracy: 0.6681 - val_loss: 0.6311 - val_accuracy: 0.6450\n",
            "Epoch 79/150\n",
            "54/54 [==============================] - 0s 2ms/step - loss: 0.5975 - accuracy: 0.6618 - val_loss: 0.6232 - val_accuracy: 0.6753\n",
            "Epoch 80/150\n",
            "54/54 [==============================] - 0s 2ms/step - loss: 0.5623 - accuracy: 0.7104 - val_loss: 0.6177 - val_accuracy: 0.6667\n",
            "Epoch 81/150\n",
            "54/54 [==============================] - 0s 2ms/step - loss: 0.5895 - accuracy: 0.7001 - val_loss: 0.6206 - val_accuracy: 0.6667\n",
            "Epoch 82/150\n",
            "54/54 [==============================] - 0s 2ms/step - loss: 0.6015 - accuracy: 0.6521 - val_loss: 0.6157 - val_accuracy: 0.6840\n",
            "Epoch 83/150\n",
            "54/54 [==============================] - 0s 2ms/step - loss: 0.6084 - accuracy: 0.6642 - val_loss: 0.6158 - val_accuracy: 0.6710\n",
            "Epoch 84/150\n",
            "54/54 [==============================] - 0s 2ms/step - loss: 0.5902 - accuracy: 0.6984 - val_loss: 0.6343 - val_accuracy: 0.6667\n",
            "Epoch 85/150\n",
            "54/54 [==============================] - 0s 2ms/step - loss: 0.5944 - accuracy: 0.6780 - val_loss: 0.6192 - val_accuracy: 0.6710\n",
            "Epoch 86/150\n",
            "54/54 [==============================] - 0s 2ms/step - loss: 0.5717 - accuracy: 0.7121 - val_loss: 0.6167 - val_accuracy: 0.6710\n",
            "Epoch 87/150\n",
            "54/54 [==============================] - 0s 2ms/step - loss: 0.5784 - accuracy: 0.6844 - val_loss: 0.6158 - val_accuracy: 0.6537\n",
            "Epoch 88/150\n",
            "54/54 [==============================] - 0s 2ms/step - loss: 0.5673 - accuracy: 0.7041 - val_loss: 0.6235 - val_accuracy: 0.6623\n",
            "Epoch 89/150\n",
            "54/54 [==============================] - 0s 2ms/step - loss: 0.5761 - accuracy: 0.6781 - val_loss: 0.6120 - val_accuracy: 0.6753\n",
            "Epoch 90/150\n",
            "54/54 [==============================] - 0s 2ms/step - loss: 0.5659 - accuracy: 0.7102 - val_loss: 0.6117 - val_accuracy: 0.6623\n",
            "Epoch 91/150\n",
            "54/54 [==============================] - 0s 2ms/step - loss: 0.5598 - accuracy: 0.6779 - val_loss: 0.6094 - val_accuracy: 0.6797\n",
            "Epoch 92/150\n",
            "54/54 [==============================] - 0s 2ms/step - loss: 0.5659 - accuracy: 0.7067 - val_loss: 0.6084 - val_accuracy: 0.6667\n",
            "Epoch 93/150\n",
            "54/54 [==============================] - 0s 2ms/step - loss: 0.5885 - accuracy: 0.6657 - val_loss: 0.6222 - val_accuracy: 0.6623\n",
            "Epoch 94/150\n",
            "54/54 [==============================] - 0s 2ms/step - loss: 0.5663 - accuracy: 0.6906 - val_loss: 0.6182 - val_accuracy: 0.6710\n",
            "Epoch 95/150\n",
            "54/54 [==============================] - 0s 2ms/step - loss: 0.5701 - accuracy: 0.6947 - val_loss: 0.6184 - val_accuracy: 0.6667\n",
            "Epoch 96/150\n",
            "54/54 [==============================] - 0s 2ms/step - loss: 0.5788 - accuracy: 0.6965 - val_loss: 0.6021 - val_accuracy: 0.6883\n",
            "Epoch 97/150\n",
            "54/54 [==============================] - 0s 2ms/step - loss: 0.6110 - accuracy: 0.6538 - val_loss: 0.6334 - val_accuracy: 0.6537\n",
            "Epoch 98/150\n",
            "54/54 [==============================] - 0s 2ms/step - loss: 0.5534 - accuracy: 0.7282 - val_loss: 0.6127 - val_accuracy: 0.6753\n",
            "Epoch 99/150\n",
            "54/54 [==============================] - 0s 2ms/step - loss: 0.5511 - accuracy: 0.7323 - val_loss: 0.6246 - val_accuracy: 0.6537\n",
            "Epoch 100/150\n",
            "54/54 [==============================] - 0s 2ms/step - loss: 0.5824 - accuracy: 0.6929 - val_loss: 0.6288 - val_accuracy: 0.6580\n",
            "Epoch 101/150\n",
            "54/54 [==============================] - 0s 2ms/step - loss: 0.5291 - accuracy: 0.7546 - val_loss: 0.6075 - val_accuracy: 0.6840\n",
            "Epoch 102/150\n",
            "54/54 [==============================] - 0s 2ms/step - loss: 0.5728 - accuracy: 0.7168 - val_loss: 0.6161 - val_accuracy: 0.6494\n",
            "Epoch 103/150\n",
            "54/54 [==============================] - 0s 2ms/step - loss: 0.5756 - accuracy: 0.6982 - val_loss: 0.6066 - val_accuracy: 0.6840\n",
            "Epoch 104/150\n",
            "54/54 [==============================] - 0s 2ms/step - loss: 0.6079 - accuracy: 0.6665 - val_loss: 0.6248 - val_accuracy: 0.6926\n",
            "Epoch 105/150\n",
            "54/54 [==============================] - 0s 2ms/step - loss: 0.5881 - accuracy: 0.7066 - val_loss: 0.6281 - val_accuracy: 0.6883\n",
            "Epoch 106/150\n",
            "54/54 [==============================] - 0s 2ms/step - loss: 0.5599 - accuracy: 0.7148 - val_loss: 0.6358 - val_accuracy: 0.6883\n",
            "Epoch 107/150\n",
            "54/54 [==============================] - 0s 2ms/step - loss: 0.6040 - accuracy: 0.6592 - val_loss: 0.6198 - val_accuracy: 0.6753\n",
            "Epoch 108/150\n",
            "54/54 [==============================] - 0s 2ms/step - loss: 0.5817 - accuracy: 0.6642 - val_loss: 0.6175 - val_accuracy: 0.6580\n",
            "Epoch 109/150\n",
            "54/54 [==============================] - 0s 2ms/step - loss: 0.5768 - accuracy: 0.6926 - val_loss: 0.6119 - val_accuracy: 0.6667\n",
            "Epoch 110/150\n",
            "54/54 [==============================] - 0s 2ms/step - loss: 0.5829 - accuracy: 0.6879 - val_loss: 0.6026 - val_accuracy: 0.6840\n",
            "Epoch 111/150\n",
            "54/54 [==============================] - 0s 2ms/step - loss: 0.5479 - accuracy: 0.7148 - val_loss: 0.6239 - val_accuracy: 0.6623\n",
            "Epoch 112/150\n",
            "54/54 [==============================] - 0s 2ms/step - loss: 0.5656 - accuracy: 0.7136 - val_loss: 0.6026 - val_accuracy: 0.6883\n",
            "Epoch 113/150\n",
            "54/54 [==============================] - 0s 2ms/step - loss: 0.5641 - accuracy: 0.6944 - val_loss: 0.6198 - val_accuracy: 0.6797\n",
            "Epoch 114/150\n",
            "54/54 [==============================] - 0s 5ms/step - loss: 0.5850 - accuracy: 0.6602 - val_loss: 0.6255 - val_accuracy: 0.6797\n",
            "Epoch 115/150\n",
            "54/54 [==============================] - 0s 2ms/step - loss: 0.5830 - accuracy: 0.6755 - val_loss: 0.6250 - val_accuracy: 0.6623\n",
            "Epoch 116/150\n",
            "54/54 [==============================] - 0s 2ms/step - loss: 0.5818 - accuracy: 0.7010 - val_loss: 0.6307 - val_accuracy: 0.6753\n",
            "Epoch 117/150\n",
            "54/54 [==============================] - 0s 2ms/step - loss: 0.5681 - accuracy: 0.6991 - val_loss: 0.6259 - val_accuracy: 0.6710\n",
            "Epoch 118/150\n",
            "54/54 [==============================] - 0s 2ms/step - loss: 0.5628 - accuracy: 0.7133 - val_loss: 0.6230 - val_accuracy: 0.6667\n",
            "Epoch 119/150\n",
            "54/54 [==============================] - 0s 2ms/step - loss: 0.5891 - accuracy: 0.6774 - val_loss: 0.6307 - val_accuracy: 0.6926\n",
            "Epoch 120/150\n",
            "54/54 [==============================] - 0s 2ms/step - loss: 0.5634 - accuracy: 0.7015 - val_loss: 0.6149 - val_accuracy: 0.6883\n",
            "Epoch 121/150\n",
            "54/54 [==============================] - 0s 2ms/step - loss: 0.5496 - accuracy: 0.7318 - val_loss: 0.6230 - val_accuracy: 0.6753\n",
            "Epoch 122/150\n",
            "54/54 [==============================] - 0s 2ms/step - loss: 0.5538 - accuracy: 0.7122 - val_loss: 0.6201 - val_accuracy: 0.6753\n",
            "Epoch 123/150\n",
            "54/54 [==============================] - 0s 2ms/step - loss: 0.5748 - accuracy: 0.7002 - val_loss: 0.6157 - val_accuracy: 0.6753\n",
            "Epoch 124/150\n",
            "54/54 [==============================] - 0s 2ms/step - loss: 0.5503 - accuracy: 0.7354 - val_loss: 0.6195 - val_accuracy: 0.6753\n",
            "Epoch 125/150\n",
            "54/54 [==============================] - 0s 2ms/step - loss: 0.5618 - accuracy: 0.7049 - val_loss: 0.6182 - val_accuracy: 0.6710\n",
            "Epoch 126/150\n",
            "54/54 [==============================] - 0s 3ms/step - loss: 0.5782 - accuracy: 0.6905 - val_loss: 0.6328 - val_accuracy: 0.6710\n",
            "Epoch 127/150\n",
            "54/54 [==============================] - 0s 2ms/step - loss: 0.6047 - accuracy: 0.6959 - val_loss: 0.6238 - val_accuracy: 0.6753\n",
            "Epoch 128/150\n",
            "54/54 [==============================] - 0s 2ms/step - loss: 0.5656 - accuracy: 0.7146 - val_loss: 0.6152 - val_accuracy: 0.6797\n",
            "Epoch 129/150\n",
            "54/54 [==============================] - 0s 2ms/step - loss: 0.5495 - accuracy: 0.7258 - val_loss: 0.6192 - val_accuracy: 0.7013\n",
            "Epoch 130/150\n",
            "54/54 [==============================] - 0s 3ms/step - loss: 0.5551 - accuracy: 0.7170 - val_loss: 0.6205 - val_accuracy: 0.6623\n",
            "Epoch 131/150\n",
            "54/54 [==============================] - 0s 2ms/step - loss: 0.5826 - accuracy: 0.6858 - val_loss: 0.6188 - val_accuracy: 0.6667\n",
            "Epoch 132/150\n",
            "54/54 [==============================] - 0s 2ms/step - loss: 0.5813 - accuracy: 0.6838 - val_loss: 0.6132 - val_accuracy: 0.6883\n",
            "Epoch 133/150\n",
            "54/54 [==============================] - 0s 3ms/step - loss: 0.5698 - accuracy: 0.7071 - val_loss: 0.6237 - val_accuracy: 0.6840\n",
            "Epoch 134/150\n",
            "54/54 [==============================] - 0s 2ms/step - loss: 0.6000 - accuracy: 0.6883 - val_loss: 0.6214 - val_accuracy: 0.6753\n",
            "Epoch 135/150\n",
            "54/54 [==============================] - 0s 2ms/step - loss: 0.5628 - accuracy: 0.7125 - val_loss: 0.6139 - val_accuracy: 0.6797\n",
            "Epoch 136/150\n",
            "54/54 [==============================] - 0s 2ms/step - loss: 0.5556 - accuracy: 0.7110 - val_loss: 0.6120 - val_accuracy: 0.6840\n",
            "Epoch 137/150\n",
            "54/54 [==============================] - 0s 2ms/step - loss: 0.6139 - accuracy: 0.6595 - val_loss: 0.6164 - val_accuracy: 0.6667\n",
            "Epoch 138/150\n",
            "54/54 [==============================] - 0s 2ms/step - loss: 0.5620 - accuracy: 0.7037 - val_loss: 0.6227 - val_accuracy: 0.6580\n",
            "Epoch 139/150\n",
            "54/54 [==============================] - 0s 2ms/step - loss: 0.5677 - accuracy: 0.7012 - val_loss: 0.6160 - val_accuracy: 0.6797\n",
            "Epoch 140/150\n",
            "54/54 [==============================] - 0s 2ms/step - loss: 0.5607 - accuracy: 0.7004 - val_loss: 0.6171 - val_accuracy: 0.6710\n",
            "Epoch 141/150\n",
            "54/54 [==============================] - 0s 2ms/step - loss: 0.5797 - accuracy: 0.6812 - val_loss: 0.6058 - val_accuracy: 0.6797\n",
            "Epoch 142/150\n",
            "54/54 [==============================] - 0s 2ms/step - loss: 0.5610 - accuracy: 0.6945 - val_loss: 0.6016 - val_accuracy: 0.6926\n",
            "Epoch 143/150\n",
            "54/54 [==============================] - 0s 2ms/step - loss: 0.5547 - accuracy: 0.7058 - val_loss: 0.6141 - val_accuracy: 0.6623\n",
            "Epoch 144/150\n",
            "54/54 [==============================] - 0s 2ms/step - loss: 0.5791 - accuracy: 0.6989 - val_loss: 0.6296 - val_accuracy: 0.6753\n",
            "Epoch 145/150\n",
            "54/54 [==============================] - 0s 2ms/step - loss: 0.5793 - accuracy: 0.6843 - val_loss: 0.6179 - val_accuracy: 0.6450\n",
            "Epoch 146/150\n",
            "54/54 [==============================] - 0s 2ms/step - loss: 0.5773 - accuracy: 0.7098 - val_loss: 0.6052 - val_accuracy: 0.6710\n",
            "Epoch 147/150\n",
            "54/54 [==============================] - 0s 2ms/step - loss: 0.5702 - accuracy: 0.7022 - val_loss: 0.6173 - val_accuracy: 0.6623\n",
            "Epoch 148/150\n",
            "54/54 [==============================] - 0s 2ms/step - loss: 0.5896 - accuracy: 0.6864 - val_loss: 0.6117 - val_accuracy: 0.6840\n",
            "Epoch 149/150\n",
            "54/54 [==============================] - 0s 2ms/step - loss: 0.5501 - accuracy: 0.7423 - val_loss: 0.6186 - val_accuracy: 0.6797\n",
            "Epoch 150/150\n",
            "54/54 [==============================] - 0s 2ms/step - loss: 0.5697 - accuracy: 0.7011 - val_loss: 0.6229 - val_accuracy: 0.6667\n"
          ],
          "name": "stdout"
        }
      ]
    },
    {
      "cell_type": "code",
      "metadata": {
        "colab": {
          "base_uri": "https://localhost:8080/",
          "height": 329
        },
        "id": "aS_YS5B6E16a",
        "outputId": "c0256dae-38d2-4846-952c-1e010b5edca8"
      },
      "source": [
        "#Summarise the history for accuracy\r\n",
        "print(history.history.keys())\r\n",
        "plt.plot(history.history['accuracy'])\r\n",
        "plt.plot(history.history['val_accuracy'])\r\n",
        "plt.title('model accurcy')\r\n",
        "plt.xlabel('epoch')\r\n",
        "plt.ylabel('accuracy')\r\n",
        "plt.legend(['train','test'],loc='upper left')"
      ],
      "execution_count": 79,
      "outputs": [
        {
          "output_type": "stream",
          "text": [
            "dict_keys(['loss', 'accuracy', 'val_loss', 'val_accuracy'])\n"
          ],
          "name": "stdout"
        },
        {
          "output_type": "execute_result",
          "data": {
            "text/plain": [
              "<matplotlib.legend.Legend at 0x7f40f91e4eb8>"
            ]
          },
          "metadata": {
            "tags": []
          },
          "execution_count": 79
        },
        {
          "output_type": "display_data",
          "data": {
            "image/png": "[encoded data removed]",
            "text/plain": [
              "<Figure size 432x288 with 1 Axes>"
            ]
          },
          "metadata": {
            "tags": [],
            "needs_background": "light"
          }
        }
      ]
    },
    {
      "cell_type": "code",
      "metadata": {
        "colab": {
          "base_uri": "https://localhost:8080/",
          "height": 312
        },
        "id": "r7xAZs-DFmuQ",
        "outputId": "a5dd76a0-1e25-4078-d5d6-ce08c21af93c"
      },
      "source": [
        "#Summarise the history for loss\r\n",
        "plt.plot(history.history['loss'])\r\n",
        "plt.plot(history.history['val_loss'])\r\n",
        "plt.title('model loss')\r\n",
        "plt.xlabel('epoch')\r\n",
        "plt.ylabel('loss')\r\n",
        "plt.legend(['train','test'],loc='upper left')"
      ],
      "execution_count": 72,
      "outputs": [
        {
          "output_type": "execute_result",
          "data": {
            "text/plain": [
              "<matplotlib.legend.Legend at 0x7f40f92a24e0>"
            ]
          },
          "metadata": {
            "tags": []
          },
          "execution_count": 72
        },
        {
          "output_type": "display_data",
          "data": {
            "image/png": "[encoded data removed]",
            "text/plain": [
              "<Figure size 432x288 with 1 Axes>"
            ]
          },
          "metadata": {
            "tags": [],
            "needs_background": "light"
          }
        }
      ]
    },
    {
      "cell_type": "code",
      "metadata": {
        "colab": {
          "base_uri": "https://localhost:8080/"
        },
        "id": "98uHhysuG9-r",
        "outputId": "1b3167a4-6970-42cf-91aa-76012f14f518"
      },
      "source": [
        "bias=model.get_weights( ) #To get the bias of all the layers\r\n",
        "model.layers[0].get_weights #to get the bias of first layer\r\n",
        "model.layers[1].get_weights #to get the bias of second layer\r\n",
        "model.layers[2].get_weights #to get the bias of third layer"
      ],
      "execution_count": 77,
      "outputs": [
        {
          "output_type": "execute_result",
          "data": {
            "text/plain": [
              "<bound method Layer.get_weights of <tensorflow.python.keras.layers.core.Dense object at 0x7f40f9c6a5c0>>"
            ]
          },
          "metadata": {
            "tags": []
          },
          "execution_count": 77
        }
      ]
    },
    {
      "cell_type": "code",
      "metadata": {
        "colab": {
          "base_uri": "https://localhost:8080/"
        },
        "id": "1stuxXDNKNB0",
        "outputId": "ffd7920f-6e68-41b7-c8d3-3d3c2710124e"
      },
      "source": [
        ""
      ],
      "execution_count": 78,
      "outputs": [
        {
          "output_type": "stream",
          "text": [
            "dict_keys(['loss', 'accuracy', 'val_loss', 'val_accuracy'])\n"
          ],
          "name": "stdout"
        }
      ]
    },
    {
      "cell_type": "code",
      "metadata": {
        "id": "-mypbHPcLkXW"
      },
      "source": [
        ""
      ],
      "execution_count": null,
      "outputs": []
    }
  ]
}