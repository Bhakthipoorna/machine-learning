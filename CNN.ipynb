{
  "nbformat": 4,
  "nbformat_minor": 0,
  "metadata": {
    "colab": {
      "name": "CNN.ipynb",
      "provenance": [],
      "collapsed_sections": [],
      "authorship_tag": "ABX9TyMGGHRp5eE2MHQO9UbaV9Ok",
      "include_colab_link": true
    },
    "kernelspec": {
      "name": "python3",
      "display_name": "Python 3"
    }
  },
  "cells": [
    {
      "cell_type": "markdown",
      "metadata": {
        "id": "view-in-github",
        "colab_type": "text"
      },
      "source": [
        "<a href=\"https://colab.research.google.com/github/Bhakthipoorna/machine-learning/blob/main/CNN.ipynb\" target=\"_parent\"><img src=\"https://colab.research.google.com/assets/colab-badge.svg\" alt=\"Open In Colab\"/></a>"
      ]
    },
    {
      "cell_type": "code",
      "metadata": {
        "id": "j0_w89qj9bdi"
      },
      "source": [
        "#Example of verticle line filter with a stride of 2\r\n",
        "from numpy import asarray\r\n",
        "from keras.models import Sequential\r\n",
        "from keras.layers import Conv2D"
      ],
      "execution_count": 6,
      "outputs": []
    },
    {
      "cell_type": "code",
      "metadata": {
        "id": "WADWqoO0NzHl"
      },
      "source": [
        "#Define the input data\r\n",
        "data=[[0,0,0,1,1,0,0,0],\r\n",
        "      [0,0,0,1,1,0,0,0],\r\n",
        "      [0,0,0,1,1,0,0,0],\r\n",
        "      [0,0,0,1,1,0,0,0],\r\n",
        "      [0,0,0,1,1,0,0,0],\r\n",
        "      [0,0,0,1,1,0,0,0],\r\n",
        "      [0,0,0,1,1,0,0,0],\r\n",
        "      [0,0,0,1,1,0,0,0,]]"
      ],
      "execution_count": 7,
      "outputs": []
    },
    {
      "cell_type": "code",
      "metadata": {
        "id": "1lhMO87-OpcI"
      },
      "source": [
        "data=asarray(data)\r\n",
        "data=data.reshape(1,8,8,1)  # first 1 is batch last 1 is channel\r\n",
        "\r\n"
      ],
      "execution_count": 13,
      "outputs": []
    },
    {
      "cell_type": "code",
      "metadata": {
        "id": "rNz3syCuOtc7"
      },
      "source": [
        "#Create model\r\n",
        "model=Sequential()\r\n",
        "model.add(Conv2D(1,(3,3),strides=(2,2),input_shape=(8,8,1)))  #By default stride value is 1\r\n",
        "#model.add(Conv2D(1,(3,3)))\r\n"
      ],
      "execution_count": 86,
      "outputs": []
    },
    {
      "cell_type": "code",
      "metadata": {
        "colab": {
          "base_uri": "https://localhost:8080/"
        },
        "id": "bIwLGnm3O4VB",
        "outputId": "8c18b53a-75e2-453c-d9ca-88d47d896ea6"
      },
      "source": [
        "#Summarisze model\r\n",
        "model.summary()"
      ],
      "execution_count": 87,
      "outputs": [
        {
          "output_type": "stream",
          "text": [
            "Model: \"sequential_14\"\n",
            "_________________________________________________________________\n",
            "Layer (type)                 Output Shape              Param #   \n",
            "=================================================================\n",
            "conv2d_12 (Conv2D)           (None, 3, 3, 1)           10        \n",
            "=================================================================\n",
            "Total params: 10\n",
            "Trainable params: 10\n",
            "Non-trainable params: 0\n",
            "_________________________________________________________________\n"
          ],
          "name": "stdout"
        }
      ]
    },
    {
      "cell_type": "code",
      "metadata": {
        "id": "yd6ItGuMPoeo"
      },
      "source": [
        "#define a vertical line detector\r\n",
        "detector=[[[[0]],[[1]],[[0]]],\r\n",
        "          [[[0]],[[1]],[[0]]],\r\n",
        "          [[[0]],[[1]],[[0]]]]"
      ],
      "execution_count": 88,
      "outputs": []
    },
    {
      "cell_type": "code",
      "metadata": {
        "id": "mer3eVGbQBDX"
      },
      "source": [
        "weights=[asarray(detector),asarray([0.0])]"
      ],
      "execution_count": 89,
      "outputs": []
    },
    {
      "cell_type": "code",
      "metadata": {
        "id": "812yw1fEQLlo"
      },
      "source": [
        "#stiore the weights in the model\r\n",
        "model.set_weights(weights)"
      ],
      "execution_count": 90,
      "outputs": []
    },
    {
      "cell_type": "code",
      "metadata": {
        "colab": {
          "base_uri": "https://localhost:8080/"
        },
        "id": "5Axs8llWQYbt",
        "outputId": "7cd6b8e2-09b4-4c7d-e05f-6271e88d71ad"
      },
      "source": [
        "#apply filter to input data\r\n",
        "yhat=model.predict(data)"
      ],
      "execution_count": 91,
      "outputs": [
        {
          "output_type": "stream",
          "text": [
            "WARNING:tensorflow:8 out of the last 10 calls to <function Model.make_predict_function.<locals>.predict_function at 0x7f019a54b510> triggered tf.function retracing. Tracing is expensive and the excessive number of tracings could be due to (1) creating @tf.function repeatedly in a loop, (2) passing tensors with different shapes, (3) passing Python objects instead of tensors. For (1), please define your @tf.function outside of the loop. For (2), @tf.function has experimental_relax_shapes=True option that relaxes argument shapes that can avoid unnecessary retracing. For (3), please refer to https://www.tensorflow.org/guide/function#controlling_retracing and https://www.tensorflow.org/api_docs/python/tf/function for  more details.\n"
          ],
          "name": "stdout"
        }
      ]
    },
    {
      "cell_type": "code",
      "metadata": {
        "colab": {
          "base_uri": "https://localhost:8080/"
        },
        "id": "ImbFNjkkQq6g",
        "outputId": "143ce42d-8b57-4435-fa04-4a48672f0b92"
      },
      "source": [
        "#Enumerate rows\r\n",
        "for r in range(yhat.shape[1]):   #yhat.shape[1] is considering only row since it is a 4D\r\n",
        "  #print each column in  the row\r\n",
        "  print([yhat[0,r,c,0] for c in range(yhat.shape[2])])  #yhat.shape[2] considering cols"
      ],
      "execution_count": 95,
      "outputs": [
        {
          "output_type": "stream",
          "text": [
            "[0.0, 3.0, 0.0]\n",
            "[0.0, 3.0, 0.0]\n",
            "[0.0, 3.0, 0.0]\n"
          ],
          "name": "stdout"
        }
      ]
    },
    {
      "cell_type": "code",
      "metadata": {
        "colab": {
          "base_uri": "https://localhost:8080/"
        },
        "id": "7exf8qPTTMIA",
        "outputId": "830bb29d-ea45-4b40-ba5a-6b9cd2f1a29a"
      },
      "source": [
        "yhat.shape[1]"
      ],
      "execution_count": 93,
      "outputs": [
        {
          "output_type": "execute_result",
          "data": {
            "text/plain": [
              "3"
            ]
          },
          "metadata": {
            "tags": []
          },
          "execution_count": 93
        }
      ]
    },
    {
      "cell_type": "code",
      "metadata": {
        "colab": {
          "base_uri": "https://localhost:8080/"
        },
        "id": "tyMd1hkNdPvq",
        "outputId": "04c1153a-f174-4ae3-ef5e-26c679f1fd45"
      },
      "source": [
        "yhat.shape[2]"
      ],
      "execution_count": 78,
      "outputs": [
        {
          "output_type": "execute_result",
          "data": {
            "text/plain": [
              "3"
            ]
          },
          "metadata": {
            "tags": []
          },
          "execution_count": 78
        }
      ]
    },
    {
      "cell_type": "code",
      "metadata": {
        "id": "hhcdi5C2dSbR"
      },
      "source": [
        ""
      ],
      "execution_count": null,
      "outputs": []
    }
  ]
}